{
 "cells": [
  {
   "cell_type": "code",
   "execution_count": 4,
   "metadata": {
    "collapsed": true
   },
   "outputs": [],
   "source": [
    "import matplotlib.pyplot as plt\n",
    "import numpy as np\n",
    "from scipy.special import gamma\n"
   ]
  },
  {
   "cell_type": "code",
   "execution_count": 5,
   "metadata": {
    "collapsed": false
   },
   "outputs": [],
   "source": [
    "def combinacion(x,y):\n",
    "    return gamma(x+1)/(gamma(y+1)*gamma(x-y+1))\n",
    "\n",
    "class Dist:\n",
    "    def __init__(self,x,n,p):\n",
    "        self._x = x\n",
    "        self._n = n\n",
    "        self._p = p\n",
    "        plt.ylim(0,1)\n",
    "    def binominal(self):\n",
    "        return np.array([combinacion(self.n,i)*(self.p**i)*((1-self.p)**(self.n-i)) for i in self.x])\n",
    "    @property\n",
    "    def x(self):\n",
    "        return self._x\n",
    "    @property \n",
    "    def n(self):\n",
    "        return self._n\n",
    "    @property \n",
    "    def p(self):\n",
    "        return self._p\n",
    "\n",
    "    def ns(self,n):\n",
    "        self._n = n\n",
    "        plt.ylim(0,1)\n",
    "        plt.plot(self.x , self.binominal())\n",
    "   \n",
    "    def ps(self,p1):\n",
    "        self._p = p1\n",
    "        plt.ylim(0,1)\n",
    "        plt.plot(self.x , self.binominal())\n",
    "        "
   ]
  },
  {
   "cell_type": "code",
   "execution_count": 6,
   "metadata": {
    "collapsed": false
   },
   "outputs": [
    {
     "data": {
      "image/png": "[encoded data removed]",
      "text/plain": [
       "<matplotlib.figure.Figure at 0x10fb7d358>"
      ]
     },
     "metadata": {},
     "output_type": "display_data"
    }
   ],
   "source": [
    "from IPython.html.widgets import *\n",
    "%matplotlib inline\n",
    "X = np.arange(1,101,1)\n",
    "dist = Dist(x=X,n=1,p=0.5)\n",
    "interact(dist.ns,n=(1,100,1))\n",
    "interact(dist.ps,p1=(1/100,0.99,1/100))"
   ]
  },
  {
   "cell_type": "code",
   "execution_count": null,
   "metadata": {
    "collapsed": true
   },
   "outputs": [],
   "source": []
  },
  {
   "cell_type": "code",
   "execution_count": null,
   "metadata": {
    "collapsed": true
   },
   "outputs": [],
   "source": []
  },
  {
   "cell_type": "code",
   "execution_count": null,
   "metadata": {
    "collapsed": true
   },
   "outputs": [],
   "source": []
  },
  {
   "cell_type": "code",
   "execution_count": null,
   "metadata": {
    "collapsed": true
   },
   "outputs": [],
   "source": []
  }
 ],
 "metadata": {
  "anaconda-cloud": {},
  "kernelspec": {
   "display_name": "Python [Root]",
   "language": "python",
   "name": "Python [Root]"
  },
  "language_info": {
   "codemirror_mode": {
    "name": "ipython",
    "version": 3
   },
   "file_extension": ".py",
   "mimetype": "text/x-python",
   "name": "python",
   "nbconvert_exporter": "python",
   "pygments_lexer": "ipython3",
   "version": "3.5.2"
  }
 },
 "nbformat": 4,
 "nbformat_minor": 0
}
